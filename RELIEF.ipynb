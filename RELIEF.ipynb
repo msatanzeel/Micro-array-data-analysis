{
 "cells": [
  {
   "cell_type": "code",
   "execution_count": 6,
   "id": "98a74567",
   "metadata": {},
   "outputs": [],
   "source": [
    "import numpy as np\n",
    "import pandas as pd\n",
    "\n",
    "def relief(X, y, n_neighbors=10, n_features_to_keep=10):\n",
    "    \"\"\"\n",
    "    Implementation of Relief feature selection algorithm.\n",
    "\n",
    "    Parameters:\n",
    "    X (numpy.ndarray or pandas.DataFrame): The input feature matrix of shape (n_samples, n_features).\n",
    "    y (numpy.ndarray or pandas.Series): The target vector of shape (n_samples,).\n",
    "    n_neighbors (int): The number of nearest neighbors to use for feature weights calculation. Default is 10.\n",
    "    n_features_to_keep (int): The number of top features to select. Default is 10.\n",
    "\n",
    "    Returns:\n",
    "    (list): A list of n_features_to_keep features ranked in descending order of their importance.\n",
    "    \"\"\"\n",
    "\n",
    "    # Convert input data to numpy arrays\n",
    "    X = np.asarray(X)\n",
    "    y = np.asarray(y)\n",
    "\n",
    "    # Initialize feature weights and score lists\n",
    "    weights = np.zeros(X.shape[1])\n",
    "    score = []\n",
    "\n",
    "    # Loop over all instances in the dataset\n",
    "    for i in range(X.shape[0]):\n",
    "\n",
    "        # Get the i-th instance and its class label\n",
    "        instance = X[i, :]\n",
    "        label = y[i]\n",
    "\n",
    "        # Calculate the distances between the i-th instance and all other instances\n",
    "        distances = np.sqrt(np.sum((X - instance) ** 2, axis=1))\n",
    "\n",
    "        # Find the indices of the k nearest instances for each class\n",
    "        knn_indices = [np.argsort(distances[y == c])[1:n_neighbors+1] for c in np.unique(y)]\n",
    "\n",
    "        # Calculate the difference between the i-th instance and its nearest neighbors for each feature\n",
    "        near_hit = np.mean(X[knn_indices[label], :], axis=0) - instance\n",
    "        near_miss = np.mean(np.concatenate([X[knn_indices[c], :] for c in np.unique(y) if c != label]), axis=0) - instance\n",
    "\n",
    "        # Update the feature weights\n",
    "        weights += near_hit ** 2 - near_miss ** 2\n",
    "\n",
    "    # Normalize the feature weights\n",
    "    weights /= np.sum(weights)\n",
    "\n",
    "    # Sort the features by their weights in descending order\n",
    "    ranked_features = np.argsort(weights)[::-1]\n",
    "\n",
    "    # Select the top k features\n",
    "    top_features = ranked_features[:n_features_to_keep]\n",
    "\n",
    "    # Return the indices of the selected features\n",
    "    return top_features.tolist()\n"
   ]
  },
  {
   "cell_type": "code",
   "execution_count": 37,
   "id": "fc12b59c",
   "metadata": {},
   "outputs": [
    {
     "data": {
      "text/plain": [
       "150"
      ]
     },
     "execution_count": 37,
     "metadata": {},
     "output_type": "execute_result"
    }
   ],
   "source": [
    "import pandas as pd\n",
    "\n",
    "# Load the data\n",
    "X = pd.read_csv(\"X.csv\", index_col=0)\n",
    "y = pd.read_csv(\"Y.csv\", index_col=0).values.ravel()\n",
    "\n",
    "\n",
    "# Select the top 1500 features using Relief\n",
    "top_features = relief(X, y, n_neighbors=10, n_features_to_keep=150)\n",
    "\n",
    "# Get the gene IDs for the top features\n",
    "gene_ids = X.columns[top_features].tolist()\n",
    "\n",
    "# Create a new dataframe with the selected features\n",
    "X_new = X.iloc[:, top_features]\n",
    "\n",
    "len(gene_ids)"
   ]
  },
  {
   "cell_type": "code",
   "execution_count": 38,
   "id": "18e22032",
   "metadata": {},
   "outputs": [],
   "source": [
    "gene_ids = [int(x) for x in gene_ids]"
   ]
  },
  {
   "cell_type": "code",
   "execution_count": 40,
   "id": "9832600c",
   "metadata": {},
   "outputs": [],
   "source": [
    "# Export the list to csv file\n",
    "import csv\n",
    "with open('gene_ids_from_algo4.csv', 'w', newline='') as file:\n",
    "    writer = csv.writer(file)\n",
    "    for value in zip(gene_ids):\n",
    "        writer.writerow(value)"
   ]
  }
 ],
 "metadata": {
  "kernelspec": {
   "display_name": "Python 3 (ipykernel)",
   "language": "python",
   "name": "python3"
  },
  "language_info": {
   "codemirror_mode": {
    "name": "ipython",
    "version": 3
   },
   "file_extension": ".py",
   "mimetype": "text/x-python",
   "name": "python",
   "nbconvert_exporter": "python",
   "pygments_lexer": "ipython3",
   "version": "3.9.13"
  }
 },
 "nbformat": 4,
 "nbformat_minor": 5
}
