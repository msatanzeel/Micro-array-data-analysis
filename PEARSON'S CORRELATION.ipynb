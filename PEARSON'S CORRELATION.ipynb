{
 "cells": [
  {
   "cell_type": "code",
   "execution_count": 36,
   "id": "8e6ae831",
   "metadata": {},
   "outputs": [],
   "source": [
    "import pandas as pd\n",
    "from sklearn.feature_selection import SelectKBest, f_regression\n",
    "from sklearn.model_selection import train_test_split\n",
    "from sklearn.linear_model import LogisticRegression\n",
    "from sklearn.metrics import confusion_matrix, roc_curve, roc_auc_score\n",
    "from sklearn.model_selection import cross_val_score\n",
    "from sklearn.feature_selection import VarianceThreshold\n",
    "from sklearn.model_selection import train_test_split\n",
    "from sklearn.linear_model import LinearRegression\n",
    "from sklearn.model_selection import cross_val_score\n",
    "from sklearn.linear_model import LogisticRegression\n",
    "import pandas as pd\n",
    "import numpy as np\n",
    "from sklearn.metrics import roc_curve, auc, confusion_matrix\n",
    "from sklearn.metrics import roc_auc_score\n",
    "import matplotlib.pyplot as plt"
   ]
  },
  {
   "cell_type": "code",
   "execution_count": 37,
   "id": "39d318f6",
   "metadata": {},
   "outputs": [],
   "source": [
    "# read in X and Y dataframes\n",
    "X = pd.read_csv('X.csv',index_col=0)\n",
    "Y = pd.read_csv('Y.csv',index_col=0)"
   ]
  },
  {
   "cell_type": "code",
   "execution_count": 93,
   "id": "ed882091",
   "metadata": {},
   "outputs": [],
   "source": [
    "# Apply feature selection\n",
    "k = 150 # number of top features to select\n",
    "selector = SelectKBest(score_func=f_regression, k=k)\n",
    "X_new = selector.fit_transform(X, Y.values.ravel())\n",
    "selected_features = X.columns[selector.get_support()]"
   ]
  },
  {
   "cell_type": "code",
   "execution_count": 14,
   "id": "f542d36c",
   "metadata": {},
   "outputs": [],
   "source": [
    "# Split the data into training and testing sets\n",
    "X_train, X_test, Y_train, Y_test = train_test_split(X_new, Y.values.ravel(), test_size=0.3, random_state=42)\n"
   ]
  },
  {
   "cell_type": "code",
   "execution_count": 19,
   "id": "d112bf3c",
   "metadata": {},
   "outputs": [
    {
     "name": "stdout",
     "output_type": "stream",
     "text": [
      "Cross-validation score: 0.9846153846153847\n"
     ]
    }
   ],
   "source": [
    "# Train a logistic regression model\n",
    "model = LogisticRegression(max_iter=1000)\n",
    "kfold = 5\n",
    "scores = cross_val_score(model, X_train, Y_train, cv=kfold)\n",
    "print(f'Cross-validation score: {np.mean(scores)}')"
   ]
  },
  {
   "cell_type": "code",
   "execution_count": 94,
   "id": "7720be4a",
   "metadata": {},
   "outputs": [],
   "source": [
    "selected_features = selected_features.to_list()"
   ]
  },
  {
   "cell_type": "code",
   "execution_count": 95,
   "id": "27ed7a74",
   "metadata": {},
   "outputs": [],
   "source": [
    "selected_features = [int(x) for x in selected_features]"
   ]
  },
  {
   "cell_type": "code",
   "execution_count": 96,
   "id": "1d979e77",
   "metadata": {},
   "outputs": [
    {
     "data": {
      "text/plain": [
       "150"
      ]
     },
     "execution_count": 96,
     "metadata": {},
     "output_type": "execute_result"
    }
   ],
   "source": [
    "len(selected_features)"
   ]
  },
  {
   "cell_type": "code",
   "execution_count": 97,
   "id": "09cf328f",
   "metadata": {},
   "outputs": [],
   "source": [
    "# Export the list to csv file\n",
    "import csv\n",
    "with open('gene_ids_from_algo2.csv', 'w', newline='') as file:\n",
    "    writer = csv.writer(file)\n",
    "    for value in zip(selected_features):\n",
    "        writer.writerow(value)"
   ]
  }
 ],
 "metadata": {
  "kernelspec": {
   "display_name": "Python 3 (ipykernel)",
   "language": "python",
   "name": "python3"
  },
  "language_info": {
   "codemirror_mode": {
    "name": "ipython",
    "version": 3
   },
   "file_extension": ".py",
   "mimetype": "text/x-python",
   "name": "python",
   "nbconvert_exporter": "python",
   "pygments_lexer": "ipython3",
   "version": "3.9.13"
  }
 },
 "nbformat": 4,
 "nbformat_minor": 5
}
