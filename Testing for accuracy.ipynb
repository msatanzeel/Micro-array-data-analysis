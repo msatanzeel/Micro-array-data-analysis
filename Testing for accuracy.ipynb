{
 "cells": [
  {
   "cell_type": "code",
   "execution_count": 1,
   "id": "78e80f60",
   "metadata": {},
   "outputs": [],
   "source": [
    "import numpy as np\n",
    "import pandas as pd"
   ]
  },
  {
   "cell_type": "code",
   "execution_count": 2,
   "id": "b49d8c60",
   "metadata": {},
   "outputs": [],
   "source": [
    "# read in X and Y dataframes\n",
    "X = pd.read_csv('X.csv',index_col=0)\n",
    "Y = pd.read_csv('Y.csv',index_col=0)"
   ]
  },
  {
   "cell_type": "code",
   "execution_count": 3,
   "id": "d18a888c",
   "metadata": {},
   "outputs": [
    {
     "data": {
      "text/html": [
       "<div>\n",
       "<style scoped>\n",
       "    .dataframe tbody tr th:only-of-type {\n",
       "        vertical-align: middle;\n",
       "    }\n",
       "\n",
       "    .dataframe tbody tr th {\n",
       "        vertical-align: top;\n",
       "    }\n",
       "\n",
       "    .dataframe thead th {\n",
       "        text-align: right;\n",
       "    }\n",
       "</style>\n",
       "<table border=\"1\" class=\"dataframe\">\n",
       "  <thead>\n",
       "    <tr style=\"text-align: right;\">\n",
       "      <th></th>\n",
       "      <th>2315633</th>\n",
       "      <th>2315739</th>\n",
       "      <th>2316245</th>\n",
       "      <th>2317434</th>\n",
       "      <th>2317512</th>\n",
       "      <th>2318086</th>\n",
       "      <th>2318257</th>\n",
       "      <th>2318455</th>\n",
       "      <th>2318656</th>\n",
       "      <th>2319252</th>\n",
       "      <th>...</th>\n",
       "      <th>4049862</th>\n",
       "      <th>4051723</th>\n",
       "      <th>4053085</th>\n",
       "      <th>4054204</th>\n",
       "      <th>4054414</th>\n",
       "      <th>4054427</th>\n",
       "      <th>4054437</th>\n",
       "      <th>4054639</th>\n",
       "      <th>4055661</th>\n",
       "      <th>7385641</th>\n",
       "    </tr>\n",
       "  </thead>\n",
       "  <tbody>\n",
       "    <tr>\n",
       "      <th>GSM547265</th>\n",
       "      <td>6.63426</td>\n",
       "      <td>6.61106</td>\n",
       "      <td>8.11258</td>\n",
       "      <td>8.16793</td>\n",
       "      <td>6.20079</td>\n",
       "      <td>6.63915</td>\n",
       "      <td>6.89326</td>\n",
       "      <td>5.62877</td>\n",
       "      <td>6.09928</td>\n",
       "      <td>6.47993</td>\n",
       "      <td>...</td>\n",
       "      <td>8.18693</td>\n",
       "      <td>6.86065</td>\n",
       "      <td>5.94963</td>\n",
       "      <td>7.10436</td>\n",
       "      <td>5.75385</td>\n",
       "      <td>6.05586</td>\n",
       "      <td>6.01827</td>\n",
       "      <td>8.13807</td>\n",
       "      <td>9.58889</td>\n",
       "      <td>5.29320</td>\n",
       "    </tr>\n",
       "    <tr>\n",
       "      <th>GSM547266</th>\n",
       "      <td>6.77339</td>\n",
       "      <td>6.92113</td>\n",
       "      <td>8.32914</td>\n",
       "      <td>8.51536</td>\n",
       "      <td>6.22947</td>\n",
       "      <td>6.76890</td>\n",
       "      <td>7.32080</td>\n",
       "      <td>4.75461</td>\n",
       "      <td>6.23427</td>\n",
       "      <td>6.76784</td>\n",
       "      <td>...</td>\n",
       "      <td>8.00690</td>\n",
       "      <td>7.22674</td>\n",
       "      <td>6.19202</td>\n",
       "      <td>7.25671</td>\n",
       "      <td>5.08699</td>\n",
       "      <td>5.06429</td>\n",
       "      <td>5.19170</td>\n",
       "      <td>7.83636</td>\n",
       "      <td>10.68940</td>\n",
       "      <td>5.60921</td>\n",
       "    </tr>\n",
       "    <tr>\n",
       "      <th>GSM547267</th>\n",
       "      <td>6.82841</td>\n",
       "      <td>6.89531</td>\n",
       "      <td>7.93158</td>\n",
       "      <td>8.02643</td>\n",
       "      <td>6.74113</td>\n",
       "      <td>7.00569</td>\n",
       "      <td>6.87472</td>\n",
       "      <td>4.72446</td>\n",
       "      <td>5.87781</td>\n",
       "      <td>6.50739</td>\n",
       "      <td>...</td>\n",
       "      <td>7.64298</td>\n",
       "      <td>7.30349</td>\n",
       "      <td>6.51488</td>\n",
       "      <td>6.79476</td>\n",
       "      <td>5.62140</td>\n",
       "      <td>5.33508</td>\n",
       "      <td>6.24613</td>\n",
       "      <td>8.30760</td>\n",
       "      <td>9.83950</td>\n",
       "      <td>5.93616</td>\n",
       "    </tr>\n",
       "    <tr>\n",
       "      <th>GSM547268</th>\n",
       "      <td>6.12285</td>\n",
       "      <td>6.44312</td>\n",
       "      <td>7.95581</td>\n",
       "      <td>8.58608</td>\n",
       "      <td>6.15481</td>\n",
       "      <td>7.17477</td>\n",
       "      <td>6.65657</td>\n",
       "      <td>4.61109</td>\n",
       "      <td>6.40874</td>\n",
       "      <td>6.65112</td>\n",
       "      <td>...</td>\n",
       "      <td>7.45939</td>\n",
       "      <td>7.31671</td>\n",
       "      <td>6.77977</td>\n",
       "      <td>8.21227</td>\n",
       "      <td>4.49934</td>\n",
       "      <td>5.16386</td>\n",
       "      <td>4.57206</td>\n",
       "      <td>8.05844</td>\n",
       "      <td>10.98220</td>\n",
       "      <td>5.47754</td>\n",
       "    </tr>\n",
       "    <tr>\n",
       "      <th>GSM547269</th>\n",
       "      <td>6.63802</td>\n",
       "      <td>6.33454</td>\n",
       "      <td>8.12448</td>\n",
       "      <td>8.52964</td>\n",
       "      <td>5.89551</td>\n",
       "      <td>6.25038</td>\n",
       "      <td>6.35403</td>\n",
       "      <td>5.08841</td>\n",
       "      <td>6.89595</td>\n",
       "      <td>6.24782</td>\n",
       "      <td>...</td>\n",
       "      <td>8.02464</td>\n",
       "      <td>6.65667</td>\n",
       "      <td>5.40819</td>\n",
       "      <td>6.92056</td>\n",
       "      <td>5.54521</td>\n",
       "      <td>5.56643</td>\n",
       "      <td>5.62098</td>\n",
       "      <td>8.12339</td>\n",
       "      <td>10.31470</td>\n",
       "      <td>4.85305</td>\n",
       "    </tr>\n",
       "  </tbody>\n",
       "</table>\n",
       "<p>5 rows × 6393 columns</p>\n",
       "</div>"
      ],
      "text/plain": [
       "           2315633  2315739  2316245  2317434  2317512  2318086  2318257  \\\n",
       "GSM547265  6.63426  6.61106  8.11258  8.16793  6.20079  6.63915  6.89326   \n",
       "GSM547266  6.77339  6.92113  8.32914  8.51536  6.22947  6.76890  7.32080   \n",
       "GSM547267  6.82841  6.89531  7.93158  8.02643  6.74113  7.00569  6.87472   \n",
       "GSM547268  6.12285  6.44312  7.95581  8.58608  6.15481  7.17477  6.65657   \n",
       "GSM547269  6.63802  6.33454  8.12448  8.52964  5.89551  6.25038  6.35403   \n",
       "\n",
       "           2318455  2318656  2319252  ...  4049862  4051723  4053085  4054204  \\\n",
       "GSM547265  5.62877  6.09928  6.47993  ...  8.18693  6.86065  5.94963  7.10436   \n",
       "GSM547266  4.75461  6.23427  6.76784  ...  8.00690  7.22674  6.19202  7.25671   \n",
       "GSM547267  4.72446  5.87781  6.50739  ...  7.64298  7.30349  6.51488  6.79476   \n",
       "GSM547268  4.61109  6.40874  6.65112  ...  7.45939  7.31671  6.77977  8.21227   \n",
       "GSM547269  5.08841  6.89595  6.24782  ...  8.02464  6.65667  5.40819  6.92056   \n",
       "\n",
       "           4054414  4054427  4054437  4054639   4055661  7385641  \n",
       "GSM547265  5.75385  6.05586  6.01827  8.13807   9.58889  5.29320  \n",
       "GSM547266  5.08699  5.06429  5.19170  7.83636  10.68940  5.60921  \n",
       "GSM547267  5.62140  5.33508  6.24613  8.30760   9.83950  5.93616  \n",
       "GSM547268  4.49934  5.16386  4.57206  8.05844  10.98220  5.47754  \n",
       "GSM547269  5.54521  5.56643  5.62098  8.12339  10.31470  4.85305  \n",
       "\n",
       "[5 rows x 6393 columns]"
      ]
     },
     "execution_count": 3,
     "metadata": {},
     "output_type": "execute_result"
    }
   ],
   "source": [
    "X.head()"
   ]
  },
  {
   "cell_type": "code",
   "execution_count": 4,
   "id": "5f93f2c8",
   "metadata": {},
   "outputs": [
    {
     "data": {
      "text/html": [
       "<div>\n",
       "<style scoped>\n",
       "    .dataframe tbody tr th:only-of-type {\n",
       "        vertical-align: middle;\n",
       "    }\n",
       "\n",
       "    .dataframe tbody tr th {\n",
       "        vertical-align: top;\n",
       "    }\n",
       "\n",
       "    .dataframe thead th {\n",
       "        text-align: right;\n",
       "    }\n",
       "</style>\n",
       "<table border=\"1\" class=\"dataframe\">\n",
       "  <thead>\n",
       "    <tr style=\"text-align: right;\">\n",
       "      <th></th>\n",
       "      <th>status</th>\n",
       "    </tr>\n",
       "  </thead>\n",
       "  <tbody>\n",
       "    <tr>\n",
       "      <th>0</th>\n",
       "      <td>0</td>\n",
       "    </tr>\n",
       "    <tr>\n",
       "      <th>1</th>\n",
       "      <td>1</td>\n",
       "    </tr>\n",
       "    <tr>\n",
       "      <th>2</th>\n",
       "      <td>0</td>\n",
       "    </tr>\n",
       "    <tr>\n",
       "      <th>3</th>\n",
       "      <td>1</td>\n",
       "    </tr>\n",
       "    <tr>\n",
       "      <th>4</th>\n",
       "      <td>0</td>\n",
       "    </tr>\n",
       "  </tbody>\n",
       "</table>\n",
       "</div>"
      ],
      "text/plain": [
       "   status\n",
       "0       0\n",
       "1       1\n",
       "2       0\n",
       "3       1\n",
       "4       0"
      ]
     },
     "execution_count": 4,
     "metadata": {},
     "output_type": "execute_result"
    }
   ],
   "source": [
    "Y.head()"
   ]
  },
  {
   "cell_type": "code",
   "execution_count": 5,
   "id": "037802df",
   "metadata": {},
   "outputs": [],
   "source": [
    "# Retain only the Genes who probe IDs matches with the probe IDs of the biomarkers we found\n",
    "# The probe ids of the biomarkers are 3237280, 3332424, 3791782\n",
    "\n",
    "# list of biomarker probe ids\n",
    "biomarker_probe_ids = ['3237280', '3332424', '3791782']\n",
    "\n",
    "# get list of columns to drop\n",
    "columns_to_drop = list(set(X.columns) - set(biomarker_probe_ids))"
   ]
  },
  {
   "cell_type": "code",
   "execution_count": 7,
   "id": "a99cbc99",
   "metadata": {},
   "outputs": [],
   "source": [
    "# drop columns that are not present in biomarker_probe_ids\n",
    "X = X.drop(columns=columns_to_drop)"
   ]
  },
  {
   "cell_type": "code",
   "execution_count": 8,
   "id": "68002718",
   "metadata": {},
   "outputs": [
    {
     "data": {
      "text/html": [
       "<div>\n",
       "<style scoped>\n",
       "    .dataframe tbody tr th:only-of-type {\n",
       "        vertical-align: middle;\n",
       "    }\n",
       "\n",
       "    .dataframe tbody tr th {\n",
       "        vertical-align: top;\n",
       "    }\n",
       "\n",
       "    .dataframe thead th {\n",
       "        text-align: right;\n",
       "    }\n",
       "</style>\n",
       "<table border=\"1\" class=\"dataframe\">\n",
       "  <thead>\n",
       "    <tr style=\"text-align: right;\">\n",
       "      <th></th>\n",
       "      <th>3237280</th>\n",
       "      <th>3332424</th>\n",
       "      <th>3791782</th>\n",
       "    </tr>\n",
       "  </thead>\n",
       "  <tbody>\n",
       "    <tr>\n",
       "      <th>GSM547265</th>\n",
       "      <td>3.41076</td>\n",
       "      <td>4.81640</td>\n",
       "      <td>6.26247</td>\n",
       "    </tr>\n",
       "    <tr>\n",
       "      <th>GSM547266</th>\n",
       "      <td>4.41469</td>\n",
       "      <td>9.00328</td>\n",
       "      <td>3.74478</td>\n",
       "    </tr>\n",
       "    <tr>\n",
       "      <th>GSM547267</th>\n",
       "      <td>3.95550</td>\n",
       "      <td>6.75855</td>\n",
       "      <td>5.16083</td>\n",
       "    </tr>\n",
       "    <tr>\n",
       "      <th>GSM547268</th>\n",
       "      <td>6.73846</td>\n",
       "      <td>9.14629</td>\n",
       "      <td>3.61572</td>\n",
       "    </tr>\n",
       "    <tr>\n",
       "      <th>GSM547269</th>\n",
       "      <td>4.13277</td>\n",
       "      <td>6.11850</td>\n",
       "      <td>7.42879</td>\n",
       "    </tr>\n",
       "  </tbody>\n",
       "</table>\n",
       "</div>"
      ],
      "text/plain": [
       "           3237280  3332424  3791782\n",
       "GSM547265  3.41076  4.81640  6.26247\n",
       "GSM547266  4.41469  9.00328  3.74478\n",
       "GSM547267  3.95550  6.75855  5.16083\n",
       "GSM547268  6.73846  9.14629  3.61572\n",
       "GSM547269  4.13277  6.11850  7.42879"
      ]
     },
     "execution_count": 8,
     "metadata": {},
     "output_type": "execute_result"
    }
   ],
   "source": [
    "X.head()"
   ]
  },
  {
   "cell_type": "code",
   "execution_count": 9,
   "id": "393a9d29",
   "metadata": {},
   "outputs": [],
   "source": [
    "#Convert the dataframes to matries\n",
    "X = X.values\n",
    "Y = Y.values.ravel()"
   ]
  },
  {
   "cell_type": "markdown",
   "id": "2666f3cb",
   "metadata": {},
   "source": [
    "## Testing the accuracy using the Random Forests Classifier"
   ]
  },
  {
   "cell_type": "code",
   "execution_count": 11,
   "id": "0989e3e0",
   "metadata": {},
   "outputs": [
    {
     "name": "stdout",
     "output_type": "stream",
     "text": [
      "Accuracy: 0.98 (+/- 0.08)\n"
     ]
    }
   ],
   "source": [
    "from sklearn.ensemble import RandomForestClassifier\n",
    "from sklearn.model_selection import cross_val_score\n",
    "\n",
    "# Initialize random forest classifier\n",
    "rf = RandomForestClassifier(n_estimators=100, random_state=42)\n",
    "\n",
    "# Perform 10-fold cross validation and get accuracy scores\n",
    "scores = cross_val_score(rf, X, Y, cv=10)\n",
    "\n",
    "# Print the mean accuracy and standard deviation\n",
    "print('Accuracy: %0.2f (+/- %0.2f)' % (scores.mean(), scores.std() * 2))\n"
   ]
  },
  {
   "cell_type": "markdown",
   "id": "0e160ae6",
   "metadata": {},
   "source": [
    "## Testing the accuracy using the K-Nearest Neighbour as classifier"
   ]
  },
  {
   "cell_type": "code",
   "execution_count": 16,
   "id": "2d5af061",
   "metadata": {},
   "outputs": [
    {
     "name": "stdout",
     "output_type": "stream",
     "text": [
      "Accuracy: 0.9777777777777779 +/- 0.08888888888888893\n"
     ]
    },
    {
     "name": "stderr",
     "output_type": "stream",
     "text": [
      "C:\\Users\\msata\\anaconda3\\lib\\site-packages\\sklearn\\neighbors\\_classification.py:228: FutureWarning: Unlike other reduction functions (e.g. `skew`, `kurtosis`), the default behavior of `mode` typically preserves the axis it acts along. In SciPy 1.11.0, this behavior will change: the default value of `keepdims` will become False, the `axis` over which the statistic is taken will be eliminated, and the value None will no longer be accepted. Set `keepdims` to True or False to avoid this warning.\n",
      "  mode, _ = stats.mode(_y[neigh_ind, k], axis=1)\n",
      "C:\\Users\\msata\\anaconda3\\lib\\site-packages\\sklearn\\neighbors\\_classification.py:228: FutureWarning: Unlike other reduction functions (e.g. `skew`, `kurtosis`), the default behavior of `mode` typically preserves the axis it acts along. In SciPy 1.11.0, this behavior will change: the default value of `keepdims` will become False, the `axis` over which the statistic is taken will be eliminated, and the value None will no longer be accepted. Set `keepdims` to True or False to avoid this warning.\n",
      "  mode, _ = stats.mode(_y[neigh_ind, k], axis=1)\n",
      "C:\\Users\\msata\\anaconda3\\lib\\site-packages\\sklearn\\neighbors\\_classification.py:228: FutureWarning: Unlike other reduction functions (e.g. `skew`, `kurtosis`), the default behavior of `mode` typically preserves the axis it acts along. In SciPy 1.11.0, this behavior will change: the default value of `keepdims` will become False, the `axis` over which the statistic is taken will be eliminated, and the value None will no longer be accepted. Set `keepdims` to True or False to avoid this warning.\n",
      "  mode, _ = stats.mode(_y[neigh_ind, k], axis=1)\n",
      "C:\\Users\\msata\\anaconda3\\lib\\site-packages\\sklearn\\neighbors\\_classification.py:228: FutureWarning: Unlike other reduction functions (e.g. `skew`, `kurtosis`), the default behavior of `mode` typically preserves the axis it acts along. In SciPy 1.11.0, this behavior will change: the default value of `keepdims` will become False, the `axis` over which the statistic is taken will be eliminated, and the value None will no longer be accepted. Set `keepdims` to True or False to avoid this warning.\n",
      "  mode, _ = stats.mode(_y[neigh_ind, k], axis=1)\n",
      "C:\\Users\\msata\\anaconda3\\lib\\site-packages\\sklearn\\neighbors\\_classification.py:228: FutureWarning: Unlike other reduction functions (e.g. `skew`, `kurtosis`), the default behavior of `mode` typically preserves the axis it acts along. In SciPy 1.11.0, this behavior will change: the default value of `keepdims` will become False, the `axis` over which the statistic is taken will be eliminated, and the value None will no longer be accepted. Set `keepdims` to True or False to avoid this warning.\n",
      "  mode, _ = stats.mode(_y[neigh_ind, k], axis=1)\n",
      "C:\\Users\\msata\\anaconda3\\lib\\site-packages\\sklearn\\neighbors\\_classification.py:228: FutureWarning: Unlike other reduction functions (e.g. `skew`, `kurtosis`), the default behavior of `mode` typically preserves the axis it acts along. In SciPy 1.11.0, this behavior will change: the default value of `keepdims` will become False, the `axis` over which the statistic is taken will be eliminated, and the value None will no longer be accepted. Set `keepdims` to True or False to avoid this warning.\n",
      "  mode, _ = stats.mode(_y[neigh_ind, k], axis=1)\n",
      "C:\\Users\\msata\\anaconda3\\lib\\site-packages\\sklearn\\neighbors\\_classification.py:228: FutureWarning: Unlike other reduction functions (e.g. `skew`, `kurtosis`), the default behavior of `mode` typically preserves the axis it acts along. In SciPy 1.11.0, this behavior will change: the default value of `keepdims` will become False, the `axis` over which the statistic is taken will be eliminated, and the value None will no longer be accepted. Set `keepdims` to True or False to avoid this warning.\n",
      "  mode, _ = stats.mode(_y[neigh_ind, k], axis=1)\n",
      "C:\\Users\\msata\\anaconda3\\lib\\site-packages\\sklearn\\neighbors\\_classification.py:228: FutureWarning: Unlike other reduction functions (e.g. `skew`, `kurtosis`), the default behavior of `mode` typically preserves the axis it acts along. In SciPy 1.11.0, this behavior will change: the default value of `keepdims` will become False, the `axis` over which the statistic is taken will be eliminated, and the value None will no longer be accepted. Set `keepdims` to True or False to avoid this warning.\n",
      "  mode, _ = stats.mode(_y[neigh_ind, k], axis=1)\n",
      "C:\\Users\\msata\\anaconda3\\lib\\site-packages\\sklearn\\neighbors\\_classification.py:228: FutureWarning: Unlike other reduction functions (e.g. `skew`, `kurtosis`), the default behavior of `mode` typically preserves the axis it acts along. In SciPy 1.11.0, this behavior will change: the default value of `keepdims` will become False, the `axis` over which the statistic is taken will be eliminated, and the value None will no longer be accepted. Set `keepdims` to True or False to avoid this warning.\n",
      "  mode, _ = stats.mode(_y[neigh_ind, k], axis=1)\n",
      "C:\\Users\\msata\\anaconda3\\lib\\site-packages\\sklearn\\neighbors\\_classification.py:228: FutureWarning: Unlike other reduction functions (e.g. `skew`, `kurtosis`), the default behavior of `mode` typically preserves the axis it acts along. In SciPy 1.11.0, this behavior will change: the default value of `keepdims` will become False, the `axis` over which the statistic is taken will be eliminated, and the value None will no longer be accepted. Set `keepdims` to True or False to avoid this warning.\n",
      "  mode, _ = stats.mode(_y[neigh_ind, k], axis=1)\n"
     ]
    }
   ],
   "source": [
    "from sklearn.neighbors import KNeighborsClassifier\n",
    "from sklearn.model_selection import cross_val_score, KFold\n",
    "\n",
    "# Define the KNN classifier\n",
    "clf = KNeighborsClassifier()\n",
    "\n",
    "# Define the k-fold cross-validation object\n",
    "kfold = KFold(n_splits=10, shuffle=True, random_state=42)\n",
    "\n",
    "# Perform k-fold cross-validation\n",
    "scores = cross_val_score(clf, X, Y, cv=kfold)\n",
    "\n",
    "# Calculate the mean and standard deviation of the scores\n",
    "mean_score = scores.mean()\n",
    "std_score = scores.std()\n",
    "\n",
    "# Print the results\n",
    "print(f\"Accuracy: {mean_score} +/- {2*std_score}\")\n"
   ]
  },
  {
   "cell_type": "markdown",
   "id": "3449879a",
   "metadata": {},
   "source": [
    "## Testing the accuracy using the Artificial Neural Network as classifier"
   ]
  },
  {
   "cell_type": "code",
   "execution_count": 18,
   "id": "0276e42c",
   "metadata": {},
   "outputs": [
    {
     "name": "stdout",
     "output_type": "stream",
     "text": [
      "Average Accuracy: 0.9777777777777779\n"
     ]
    }
   ],
   "source": [
    "import pandas as pd\n",
    "import numpy as np\n",
    "from sklearn.model_selection import KFold\n",
    "from sklearn.preprocessing import StandardScaler\n",
    "from sklearn.neural_network import MLPClassifier\n",
    "\n",
    "# Load the data\n",
    "X = pd.read_csv('X.csv', index_col=0)\n",
    "y = pd.read_csv('Y.csv', index_col=0)\n",
    "\n",
    "# Define the k-fold cross-validation iterator\n",
    "kf = KFold(n_splits=5, shuffle=True, random_state=42)\n",
    "\n",
    "# Define the ANN classifier\n",
    "clf = MLPClassifier(hidden_layer_sizes=(100,), max_iter=1000, random_state=42)\n",
    "\n",
    "# Initialize a list to store the cross-validation scores\n",
    "scores = []\n",
    "\n",
    "# Iterate through each fold\n",
    "for train_idx, test_idx in kf.split(X):\n",
    "    # Split the data into training and testing sets for this fold\n",
    "    X_train, X_test = X.iloc[train_idx], X.iloc[test_idx]\n",
    "    y_train, y_test = y.iloc[train_idx], y.iloc[test_idx]\n",
    "\n",
    "    # Scale the data using StandardScaler\n",
    "    scaler = StandardScaler()\n",
    "    X_train_scaled = scaler.fit_transform(X_train)\n",
    "    X_test_scaled = scaler.transform(X_test)\n",
    "\n",
    "    # Fit the classifier to the training data and predict on the testing data\n",
    "    clf.fit(X_train_scaled, y_train.values.ravel())\n",
    "    y_pred = clf.predict(X_test_scaled)\n",
    "\n",
    "    # Calculate the accuracy and add it to the list of scores\n",
    "    accuracy = clf.score(X_test_scaled, y_test)\n",
    "    scores.append(accuracy)\n",
    "\n",
    "# Print the average accuracy across all folds\n",
    "print('Average Accuracy:', np.mean(scores))\n"
   ]
  },
  {
   "cell_type": "code",
   "execution_count": 36,
   "id": "2cf8763b",
   "metadata": {},
   "outputs": [
    {
     "data": {
      "image/png": "[encoded data removed]",
      "text/plain": [
       "<Figure size 600x800 with 1 Axes>"
      ]
     },
     "metadata": {},
     "output_type": "display_data"
    }
   ],
   "source": [
    "import matplotlib.pyplot as plt\n",
    "\n",
    "# Define the accuracies for each model\n",
    "accuracies = [0.98, 0.9777777777777779, 0.9777777777777779]\n",
    "\n",
    "# Define the labels for each model\n",
    "labels = ['Random forest', 'KNN', 'ANN']\n",
    "\n",
    "# Set the figure size and create a bar plot\n",
    "plt.figure(figsize=(6,8))\n",
    "plt.bar(labels, accuracies, color=['red', 'cyan', 'yellow'])\n",
    "\n",
    "# Add labels to the x-axis, y-axis, and title\n",
    "plt.xlabel('Classifier')\n",
    "plt.ylabel('Accuracy')\n",
    "plt.title('Accuracy of Classifiers')\n",
    "\n",
    "# Increase the height of the plot\n",
    "plt.ylim([0.95, 1.0])\n",
    "\n",
    "# Display the plot\n",
    "plt.show()\n"
   ]
  }
 ],
 "metadata": {
  "kernelspec": {
   "display_name": "Python 3 (ipykernel)",
   "language": "python",
   "name": "python3"
  },
  "language_info": {
   "codemirror_mode": {
    "name": "ipython",
    "version": 3
   },
   "file_extension": ".py",
   "mimetype": "text/x-python",
   "name": "python",
   "nbconvert_exporter": "python",
   "pygments_lexer": "ipython3",
   "version": "3.9.13"
  }
 },
 "nbformat": 4,
 "nbformat_minor": 5
}
