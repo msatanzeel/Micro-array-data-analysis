{
 "cells": [
  {
   "cell_type": "code",
   "execution_count": 93,
   "id": "0c529284",
   "metadata": {},
   "outputs": [
    {
     "name": "stdout",
     "output_type": "stream",
     "text": [
      "12\n",
      "[2332481 2408832 2709750 2710599 2777276 3142967 3208327 3237280 3332424\n",
      " 3374890 3604147 3791782]\n"
     ]
    }
   ],
   "source": [
    "import pandas as pd\n",
    "\n",
    "# Load the CSV files into dataframes\n",
    "df1 = pd.read_csv('gene_ids_from_algo1.csv', header=None, names=['col1'])\n",
    "df2 = pd.read_csv('gene_ids_from_algo2.csv', header=None, names=['col1'])\n",
    "df3 = pd.read_csv('gene_ids_from_algo3.csv', header=None, names=['col1'])\n",
    "df4 = pd.read_csv('gene_ids_from_algo5.csv', header=None, names=['col1'])\n",
    "\n",
    "# Merge the dataframes on the common column 'col1'\n",
    "merged_df = pd.merge(df1, df2, on='col1')\n",
    "# print(merged_df['col1'].unique())\n",
    "merged_df = pd.merge(merged_df, df3, on='col1')\n",
    "# print(merged_df['col1'].unique())\n",
    "merged_df = pd.merge(merged_df, df4, on='col1')\n",
    "\n",
    "# Get the unique values in the common column\n",
    "common_values = merged_df['col1'].unique()\n",
    "\n",
    "print(len(common_values))\n",
    "print(common_values)\n"
   ]
  }
 ],
 "metadata": {
  "kernelspec": {
   "display_name": "Python 3 (ipykernel)",
   "language": "python",
   "name": "python3"
  },
  "language_info": {
   "codemirror_mode": {
    "name": "ipython",
    "version": 3
   },
   "file_extension": ".py",
   "mimetype": "text/x-python",
   "name": "python",
   "nbconvert_exporter": "python",
   "pygments_lexer": "ipython3",
   "version": "3.9.13"
  }
 },
 "nbformat": 4,
 "nbformat_minor": 5
}
