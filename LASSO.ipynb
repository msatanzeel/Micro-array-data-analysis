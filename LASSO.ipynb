{
 "cells": [
  {
   "cell_type": "code",
   "execution_count": 33,
   "id": "b2c8223e",
   "metadata": {},
   "outputs": [],
   "source": [
    "import pandas as pd\n",
    "import numpy as np\n",
    "from sklearn.linear_model import Lasso\n",
    "from sklearn.model_selection import train_test_split\n",
    "from sklearn.metrics import roc_curve, roc_auc_score, confusion_matrix\n",
    "import matplotlib.pyplot as plt\n",
    "from sklearn.feature_selection import VarianceThreshold\n",
    "from sklearn.model_selection import train_test_split\n",
    "from sklearn.linear_model import LinearRegression\n",
    "from sklearn.model_selection import cross_val_score\n",
    "from sklearn.linear_model import LogisticRegression\n",
    "import pandas as pd\n",
    "import numpy as np\n",
    "from sklearn.metrics import roc_curve, auc, confusion_matrix\n",
    "from sklearn.metrics import roc_auc_score\n",
    "import matplotlib.pyplot as plt"
   ]
  },
  {
   "cell_type": "code",
   "execution_count": 34,
   "id": "066e8bc6",
   "metadata": {},
   "outputs": [],
   "source": [
    "# read in X and Y dataframes\n",
    "X = pd.read_csv('X.csv',index_col=0)\n",
    "Y = pd.read_csv('Y.csv',index_col=0)"
   ]
  },
  {
   "cell_type": "code",
   "execution_count": 35,
   "id": "4f43321f",
   "metadata": {},
   "outputs": [],
   "source": [
    "# split data into training and testing sets\n",
    "X_train, X_test, Y_train, Y_test = train_test_split(X.values, Y.values.ravel(), test_size=0.2, random_state=42)"
   ]
  },
  {
   "cell_type": "code",
   "execution_count": 123,
   "id": "2dfbac89",
   "metadata": {},
   "outputs": [],
   "source": [
    "# feature selection using Lasso\n",
    "lasso = Lasso(alpha=0.0005,max_iter=100000)\n",
    "lasso.fit(X_train, Y_train)\n",
    "mask = lasso.coef_ != 0\n",
    "X_train_selected = X_train[:, mask]\n",
    "X_test_selected = X_test[:, mask]\n",
    "# Get the column names (gene IDs) of the selected features\n",
    "selected_features = X.columns[mask]"
   ]
  },
  {
   "cell_type": "code",
   "execution_count": 8,
   "id": "fb8f1861",
   "metadata": {},
   "outputs": [
    {
     "name": "stdout",
     "output_type": "stream",
     "text": [
      "Cross-validation score: 0.9733333333333334\n"
     ]
    }
   ],
   "source": [
    "# fit logistic regression model on selected features\n",
    "# Train a logistic regression model\n",
    "model = LogisticRegression(max_iter=1000)\n",
    "kfold = 5\n",
    "scores = cross_val_score(model, X_train, Y_train, cv=kfold)\n",
    "print(f'Cross-validation score: {np.mean(scores)}')"
   ]
  },
  {
   "cell_type": "code",
   "execution_count": 72,
   "id": "4d723318",
   "metadata": {},
   "outputs": [
    {
     "data": {
      "text/plain": [
       "Index(['2332481', '2339995', '2359352', '2398601', '2408832', '2420642',\n",
       "       '2455191', '2459173', '2525989', '2530713', '2561216', '2584113',\n",
       "       '2590491', '2620937', '2647315', '2659393', '2709750', '2710599',\n",
       "       '2731381', '2772088', '2772167', '2773369', '2777276', '2779271',\n",
       "       '2783493', '2868044', '2903401', '2934521', '2940202', '2946383',\n",
       "       '3019939', '3028184', '3033531', '3046708', '3068339', '3076868',\n",
       "       '3088486', '3104489', '3142967', '3145567', '3191039', '3202224',\n",
       "       '3204285', '3208327', '3232979', '3237280', '3257246', '3299465',\n",
       "       '3300597', '3318443', '3326635', '3332424', '3354443', '3374890',\n",
       "       '3410445', '3416834', '3424898', '3489851', '3490892', '3498476',\n",
       "       '3604147', '3638286', '3662201', '3677312', '3726298', '3761538',\n",
       "       '3791782', '3823410', '3824993', '3856646', '3863669', '3986647',\n",
       "       '3988165', '4015481', '4054204'],\n",
       "      dtype='object')"
      ]
     },
     "execution_count": 72,
     "metadata": {},
     "output_type": "execute_result"
    }
   ],
   "source": [
    "selected_features"
   ]
  },
  {
   "cell_type": "code",
   "execution_count": 124,
   "id": "4e923d0b",
   "metadata": {},
   "outputs": [],
   "source": [
    "selected_features = selected_features.to_list()"
   ]
  },
  {
   "cell_type": "code",
   "execution_count": 125,
   "id": "b6cf8cc2",
   "metadata": {},
   "outputs": [],
   "source": [
    "selected_features = [int(x) for x in selected_features]"
   ]
  },
  {
   "cell_type": "code",
   "execution_count": 126,
   "id": "88a5696a",
   "metadata": {},
   "outputs": [
    {
     "data": {
      "text/plain": [
       "75"
      ]
     },
     "execution_count": 126,
     "metadata": {},
     "output_type": "execute_result"
    }
   ],
   "source": [
    "len(selected_features)"
   ]
  },
  {
   "cell_type": "code",
   "execution_count": 127,
   "id": "dfeb480b",
   "metadata": {},
   "outputs": [],
   "source": [
    "# Export the list to csv file\n",
    "import csv\n",
    "with open('gene_ids_from_algo3.csv', 'w', newline='') as file:\n",
    "    writer = csv.writer(file)\n",
    "    for value in zip(selected_features):\n",
    "        writer.writerow(value)"
   ]
  }
 ],
 "metadata": {
  "kernelspec": {
   "display_name": "Python 3 (ipykernel)",
   "language": "python",
   "name": "python3"
  },
  "language_info": {
   "codemirror_mode": {
    "name": "ipython",
    "version": 3
   },
   "file_extension": ".py",
   "mimetype": "text/x-python",
   "name": "python",
   "nbconvert_exporter": "python",
   "pygments_lexer": "ipython3",
   "version": "3.9.13"
  }
 },
 "nbformat": 4,
 "nbformat_minor": 5
}
